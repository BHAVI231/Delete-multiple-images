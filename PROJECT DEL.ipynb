{
 "cells": [
  {
   "cell_type": "code",
   "execution_count": 1,
   "id": "2fb8fea3",
   "metadata": {},
   "outputs": [
    {
     "name": "stdout",
     "output_type": "stream",
     "text": [
      "Enter the directory to scan for duplicate photos: C:\\Users\\91888\\Music\\MY FOLDER\\All Pics\\LOVE\n",
      "No duplicate photos found in the directory.\n"
     ]
    }
   ],
   "source": [
    "import os\n",
    "import hashlib\n",
    "\n",
    "def calculate_hash(file_path, block_size=65536):\n",
    "    \"\"\"Calculate the hash of a file.\"\"\"\n",
    "    hasher = hashlib.md5()\n",
    "    with open(file_path, 'rb') as file:\n",
    "        while True:\n",
    "            data = file.read(block_size)\n",
    "            if not data:\n",
    "                break\n",
    "            hasher.update(data)\n",
    "    return hasher.hexdigest()\n",
    "\n",
    "def find_duplicate_photos(directory):\n",
    "    \"\"\"Find duplicate photos in the given directory.\"\"\"\n",
    "    hash_to_files = {}\n",
    "    duplicates = []\n",
    "\n",
    "    for root, _, files in os.walk(directory):\n",
    "        for file_name in files:\n",
    "            file_path = os.path.join(root, file_name)\n",
    "            file_hash = calculate_hash(file_path)\n",
    "\n",
    "            if file_hash in hash_to_files:\n",
    "                duplicates.append((file_path, hash_to_files[file_hash]))\n",
    "            else:\n",
    "                hash_to_files[file_hash] = file_path\n",
    "\n",
    "    return duplicates\n",
    "\n",
    "def delete_duplicates(duplicates):\n",
    "    \"\"\"Delete duplicate photos.\"\"\"\n",
    "    for duplicate_pair in duplicates:\n",
    "        print(f\"Deleting: {duplicate_pair[0]} (Duplicate of {duplicate_pair[1]})\")\n",
    "        os.remove(duplicate_pair[0])\n",
    "\n",
    "if __name__ == \"__main__\":\n",
    "    directory = input(\"Enter the directory to scan for duplicate photos: \")\n",
    "\n",
    "    if os.path.isdir(directory):\n",
    "        duplicates = find_duplicate_photos(directory)\n",
    "\n",
    "        if duplicates:\n",
    "            print(\"\\nDuplicate photos found:\")\n",
    "            for duplicate_pair in duplicates:\n",
    "                print(f\"{duplicate_pair[0]} (Duplicate of {duplicate_pair[1]})\")\n",
    "\n",
    "            confirm = input(\"\\nDo you want to delete these duplicates? (yes/no): \").strip().lower()\n",
    "\n",
    "            if confirm == \"yes\":\n",
    "                delete_duplicates(duplicates)\n",
    "                print(\"\\nDuplicates deleted.\")\n",
    "            else:\n",
    "                print(\"No duplicates were deleted.\")\n",
    "        else:\n",
    "            print(\"No duplicate photos found in the directory.\")\n",
    "    else:\n",
    "        print(\"Invalid directory path.\")\n"
   ]
  },
  {
   "cell_type": "code",
   "execution_count": null,
   "id": "9282b976",
   "metadata": {},
   "outputs": [],
   "source": []
  }
 ],
 "metadata": {
  "kernelspec": {
   "display_name": "Python 3 (ipykernel)",
   "language": "python",
   "name": "python3"
  },
  "language_info": {
   "codemirror_mode": {
    "name": "ipython",
    "version": 3
   },
   "file_extension": ".py",
   "mimetype": "text/x-python",
   "name": "python",
   "nbconvert_exporter": "python",
   "pygments_lexer": "ipython3",
   "version": "3.9.7"
  }
 },
 "nbformat": 4,
 "nbformat_minor": 5
}
